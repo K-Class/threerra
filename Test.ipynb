{
 "cells": [
  {
   "cell_type": "code",
   "execution_count": null,
   "id": "ed64aea5",
   "metadata": {},
   "outputs": [],
   "source": [
    "import threerra # Load threerra.py\n",
    "import numpy as np\n",
    "from qiskit.tools.visualization import plot_histogram"
   ]
  },
  {
   "cell_type": "code",
   "execution_count": null,
   "id": "b6720061",
   "metadata": {},
   "outputs": [],
   "source": [
    "# Load IMB Quantum credentials\n",
    "\n",
    "from qiskit import IBMQ\n",
    "IBMQ.load_account()"
   ]
  },
  {
   "cell_type": "code",
   "execution_count": null,
   "id": "102eba51",
   "metadata": {},
   "outputs": [],
   "source": [
    "# Choose device\n",
    "provider = IBMQ.get_provider(hub='ibm-q', group='open', project='main')\n",
    "backend = provider.get_backend('ibmq_armonk')"
   ]
  },
  {
   "cell_type": "code",
   "execution_count": null,
   "id": "c0a70424",
   "metadata": {},
   "outputs": [],
   "source": [
    "# Test QuantumCircuit3\n",
    "qc = threerra.QuantumCircuit3(backend)\n",
    "qc.x_01()\n",
    "# qc.x_12()\n",
    "# qc.rz(np.pi)\n",
    "# qc.x_01()\n",
    "# qc.sx_12()"
   ]
  },
  {
   "cell_type": "code",
   "execution_count": null,
   "id": "10b3b826",
   "metadata": {},
   "outputs": [],
   "source": [
    "qc.draw() # You can pass arguments to draw()"
   ]
  },
  {
   "cell_type": "code",
   "execution_count": null,
   "id": "66d9d1eb",
   "metadata": {},
   "outputs": [],
   "source": [
    "result = qc.run()"
   ]
  },
  {
   "cell_type": "code",
   "execution_count": null,
   "id": "af17751c",
   "metadata": {},
   "outputs": [],
   "source": [
    "qc.draw()"
   ]
  },
  {
   "cell_type": "markdown",
   "id": "fadc4756",
   "metadata": {},
   "source": [
    "# Test calibrations"
   ]
  },
  {
   "cell_type": "code",
   "execution_count": null,
   "id": "91d6f4ff",
   "metadata": {},
   "outputs": [],
   "source": [
    "qc.calibrate_freq_01()"
   ]
  },
  {
   "cell_type": "code",
   "execution_count": null,
   "id": "9bb6a5f8",
   "metadata": {},
   "outputs": [],
   "source": [
    "qc.calibrate_pi_amp_01()"
   ]
  },
  {
   "cell_type": "code",
   "execution_count": null,
   "id": "d6c2a8d2",
   "metadata": {},
   "outputs": [],
   "source": [
    "qc.calibrate_freq_12()"
   ]
  },
  {
   "cell_type": "code",
   "execution_count": null,
   "id": "700a3216",
   "metadata": {},
   "outputs": [],
   "source": [
    "qc.calibrate_pi_amp_12()"
   ]
  },
  {
   "cell_type": "markdown",
   "id": "d16836b5",
   "metadata": {
    "tags": []
   },
   "source": [
    "# Test Measurement "
   ]
  },
  {
   "cell_type": "code",
   "execution_count": null,
   "id": "d46f4cd9",
   "metadata": {},
   "outputs": [],
   "source": [
    "qc = threerra.QuantumCircuit3(backend)\n",
    "# qc.ry_01(np.pi/7)\n",
    "qc.rx_01(np.pi/2)\n",
    "# qc.x_12()\n",
    "qc.measure()\n",
    "# qc1.compile()\n",
    "qc.draw()"
   ]
  },
  {
   "cell_type": "code",
   "execution_count": null,
   "id": "43405b06-75c8-4b74-94ca-a2f94478db46",
   "metadata": {},
   "outputs": [],
   "source": [
    "result = qc.run()\n",
    "plot_histogram(result.get_counts())"
   ]
  },
  {
   "cell_type": "code",
   "execution_count": null,
   "id": "05fd6300-7849-422e-aaf1-de3c7ec818f3",
   "metadata": {},
   "outputs": [],
   "source": [
    "result.get_counts()"
   ]
  },
  {
   "cell_type": "code",
   "execution_count": null,
   "id": "29428f72",
   "metadata": {},
   "outputs": [],
   "source": []
  }
 ],
 "metadata": {
  "kernelspec": {
   "display_name": "Python 3",
   "language": "python",
   "name": "python3"
  },
  "language_info": {
   "codemirror_mode": {
    "name": "ipython",
    "version": 3
   },
   "file_extension": ".py",
   "mimetype": "text/x-python",
   "name": "python",
   "nbconvert_exporter": "python",
   "pygments_lexer": "ipython3",
   "version": "3.8.11"
  }
 },
 "nbformat": 4,
 "nbformat_minor": 5
}

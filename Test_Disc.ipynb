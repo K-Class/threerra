{
 "cells": [
  {
   "cell_type": "code",
   "execution_count": 108,
   "id": "ed64aea5",
   "metadata": {
    "ExecuteTime": {
     "end_time": "2021-10-25T13:47:02.091304Z",
     "start_time": "2021-10-25T13:47:02.079466Z"
    }
   },
   "outputs": [],
   "source": [
    "#!/usr/bin/env python\n",
    "# coding: utf-8\n",
    "\n",
    "import numpy as np\n",
    "import qiskit.pulse as pulse\n",
    "import qiskit.pulse.library as pulse_lib\n",
    "from qiskit.pulse.library import Waveform\n",
    "from qiskit.tools.monitor import job_monitor\n",
    "\n",
    "from scipy.optimize import curve_fit\n",
    "\n",
    "from sklearn.discriminant_analysis import LinearDiscriminantAnalysis\n",
    "from sklearn.model_selection import train_test_split\n"
   ]
  },
  {
   "cell_type": "code",
   "execution_count": 109,
   "id": "f30837b7",
   "metadata": {
    "ExecuteTime": {
     "end_time": "2021-10-25T13:47:03.296536Z",
     "start_time": "2021-10-25T13:47:03.148169Z"
    }
   },
   "outputs": [],
   "source": [
    "# Out-of-class helpers\n",
    "def closest_multiple(N, base : int = 16):\n",
    "    \"\"\"\n",
    "    Return the closest multiple of 'base' to 'N'\n",
    "    \"\"\"\n",
    "    return base * round( N / base )\n",
    "\n",
    "def reshape_complex_vec(vec):\n",
    "    \"\"\"Take in complex vector vec and return 2d array w/ real, imag entries. This is needed for the learning.\n",
    "    Args:\n",
    "        vec (list): complex vector of data\n",
    "    Returns:\n",
    "        list: vector w/ entries given by (real(vec], imag(vec))\n",
    "    \"\"\"\n",
    "    length = len(vec)\n",
    "    vec_reshaped = np.zeros((length, 2))\n",
    "    for i in range(len(vec)):\n",
    "        vec_reshaped[i]=[np.real(vec[i]), np.imag(vec[i])]\n",
    "    return vec_reshaped\n",
    "\n",
    "\n",
    "\n",
    "class QuantumCircuit3:\n",
    "    \"\"\"Create a new circuit for a three-level system.\"\"\"\n",
    "\n",
    "    def __init__(self, backend):\n",
    "        # Select quantum and clasical memory slots\n",
    "        self.qubit = 0\n",
    "        self.mem_slot = 0\n",
    "\n",
    "        # Conversion from SI units\n",
    "        self.ns = 1.0e-9 # Nanoseconds\n",
    "        self.us = 1.0e-6 # Microseconds\n",
    "        self.MHz = 1.0e6 # Megahertz\n",
    "        self.GHz = 1.0e9 # Gigahertz\n",
    "\n",
    "        # Backend\n",
    "        self.backend = backend\n",
    "        self.backend_props    = self.backend.properties()\n",
    "        self.backend_config   = self.backend.configuration()\n",
    "        self.backend_defaults = self.backend.defaults()\n",
    "\n",
    "        # Drive pulse parameters\n",
    "        self.drive_sigma_s = 75 * self.ns           # Width (duration) of gaussian pulses in microseconds # TODO use 80 ns (0.080 us)\n",
    "        self.drive_samples_s = self.drive_sigma_s*8 # Truncate gaussian duration\n",
    "\n",
    "        self.dt = self.backend_config.dt # Device sampling period\n",
    "        self.drive_sigma = closest_multiple(self.drive_sigma_s / self.dt, 16)\n",
    "        self.drive_samples = closest_multiple(self.drive_samples_s / self.dt, 16)\n",
    "\n",
    "        # Frequencies and amplitudes for pi-pulses\n",
    "        # 01\n",
    "        self.qubit_freq_est_01 = self.backend_defaults.qubit_freq_est[self.qubit]\n",
    "        self.pi_amp_01 = 0.1556930479027419\n",
    "        # 12\n",
    "        self.qubit_freq_est_12 = self.qubit_freq_est_01 + self.backend_props.qubit_property(self.qubit)['anharmonicity'][0]\n",
    "        self.pi_amp_12 = 0.2797548240848574\n",
    "\n",
    "        # Channels\n",
    "        self.drive_chan = pulse.DriveChannel(self.qubit)\n",
    "        self.meas_chan = pulse.MeasureChannel(self.qubit)\n",
    "        self.acq_chan = pulse.AcquireChannel(self.qubit)\n",
    "\n",
    "        # Circuit schedule accumulator\n",
    "        self.list_schedule = []\n",
    "\n",
    "\n",
    "    def apply_sideband(self, pulse, freq, name=None):\n",
    "        \"\"\"\n",
    "        Apply a modulation for a signal 'pulse' according to a frequency 'freq'\n",
    "        \"\"\"\n",
    "        if name is None:\n",
    "            name = 'Sideband'\n",
    "        t = np.linspace(0, self.dt * self.drive_samples, self.drive_samples)\n",
    "        sine = np.sin(2*np.pi * (freq - self.qubit_freq_est_01) * t)\n",
    "\n",
    "        sideband_pulse = Waveform(np.real(pulse.samples) * sine, name)\n",
    "        return sideband_pulse\n",
    "\n",
    "    def sx_01(self):\n",
    "        \"\"\"\n",
    "        Apply a pi/2 pulse on levels 01\n",
    "        \"\"\"\n",
    "        pi_half_pulse_01 = pulse_lib.gaussian(duration=self.drive_samples,\n",
    "                                         amp=self.pi_amp_01/2,\n",
    "                                         sigma=self.drive_sigma,\n",
    "                                         name='sx_01')\n",
    "        self.list_schedule.append(pulse.Play(pi_half_pulse_01, self.drive_chan))\n",
    "\n",
    "    def sx_12(self):\n",
    "        \"\"\"\n",
    "        Apply a pi/2 pulse on levels 12\n",
    "        \"\"\"\n",
    "        pi_half_pulse_12 = pulse_lib.gaussian(duration=self.drive_samples,\n",
    "                                              amp=self.pi_amp_12/2,\n",
    "                                              sigma=self.drive_sigma,\n",
    "                                              name='sx_12')\n",
    "        # make sure this pulse is sidebanded\n",
    "        pi_half_pulse_12 = self.apply_sideband(pi_half_pulse_12,\n",
    "                                               self.qubit_freq_est_12,\n",
    "                                               name='sx_12')\n",
    "        self.list_schedule.append(pulse.Play(pi_half_pulse_12, self.drive_chan))\n",
    "\n",
    "    def x_01(self):\n",
    "        \"\"\"\n",
    "        Apply a pi pulse on levels 01\n",
    "        \"\"\"\n",
    "#         pi_pulse_01 = pulse_lib.gaussian(duration=self.drive_samples,\n",
    "#                                          amp=self.pi_amp_01,\n",
    "#                                          sigma=self.drive_sigma,\n",
    "#                                          name='x_01')\n",
    "#         self.list_schedule.append(pulse.Play(pi_pulse_01, self.drive_chan))\n",
    "        circ = QuantumCircuit(1)\n",
    "        circ.x(self.qubit)\n",
    "        transpiled_circ = transpile(circ, self.backend)\n",
    "        self.list_schedule.append(build_schedule(transpiled_circ, self.backend))\n",
    "\n",
    "    def rx_01(self, angle):\n",
    "        \"\"\"\n",
    "        Apply a rx gate at levels 01\n",
    "                input: it has to be in randians\n",
    "        \"\"\"\n",
    "#         pi_pulse_01 = pulse_lib.gaussian(duration=self.drive_samples,\n",
    "#                                          amp=self.pi_amp_01*angle/np.pi,\n",
    "#                                          sigma=self.drive_sigma,\n",
    "#                                          name='rx_01')\n",
    "#         self.list_schedule.append(pulse.Play(pi_pulse_01, self.drive_chan))\n",
    "        circ = QuantumCircuit(1)\n",
    "        circ.rx(angle, self.qubit)\n",
    "        transpiled_circ = transpile(circ, self.backend)\n",
    "        self.list_schedule.append(build_schedule(transpiled_circ, self.backend))\n",
    "\n",
    "    def y_01(self):\n",
    "        \"\"\"\n",
    "        Apply a y gate on levels 01\n",
    "        \"\"\"\n",
    "        phase_pi = pulse.ShiftPhase(np.pi, self.drive_chan)\n",
    "        self.list_schedule.append(phase_pi)\n",
    "        y_01 = pulse_lib.gaussian(duration=self.drive_samples,\n",
    "                                         amp=self.pi_amp_01,\n",
    "                                         sigma=self.drive_sigma,\n",
    "                                         name='y_01')\n",
    "        pulse_y_01 = pulse.Play(y_01, self.drive_chan)\n",
    "        self.list_schedule.append(pulse_y_01)\n",
    "\n",
    "    def ry_01(self, angle):\n",
    "        \"\"\"\n",
    "        Apply a ry gate on levels 01\n",
    "                input: it has to be in randians\n",
    "        \"\"\"\n",
    "        phase_pi = pulse.ShiftPhase(np.pi, self.drive_chan)\n",
    "        self.list_schedule.append(phase_pi)\n",
    "        ry_01 = pulse_lib.gaussian(duration=self.drive_samples,\n",
    "                                         amp=self.pi_amp_01*angle/np.pi,\n",
    "                                         sigma=self.drive_sigma,\n",
    "                                         name='ry_01')\n",
    "        pulse_ry_01 = pulse.Play(ry_01, self.drive_chan)\n",
    "        self.list_schedule.append(pulse_ry_01)\n",
    "\n",
    "\n",
    "    def x_12(self):\n",
    "        \"\"\"\n",
    "        Apply a pi pulse on levels 12\n",
    "        \"\"\"\n",
    "        pi_pulse_12 = pulse_lib.gaussian(duration=self.drive_samples,\n",
    "                                         amp=self.pi_amp_12,\n",
    "                                         sigma=self.drive_sigma,\n",
    "                                         name='x_12')\n",
    "        # make sure this pulse is sidebanded\n",
    "        pi_pulse_12 = self.apply_sideband(pi_pulse_12, self.qubit_freq_est_12,\n",
    "                                          name=\"x_12\")\n",
    "        self.list_schedule.append(pulse.Play(pi_pulse_12, self.drive_chan))\n",
    "\n",
    "\n",
    "    def sx_12(self):\n",
    "        \"\"\"\n",
    "        Apply a pi/2 pulse on levels 12\n",
    "        \"\"\"\n",
    "        pi_half_pulse_12 = pulse_lib.gaussian(duration=self.drive_samples,\n",
    "                                              amp=self.pi_amp_12/2,\n",
    "                                              sigma=self.drive_sigma,\n",
    "                                              name='sx_12')\n",
    "        # make sure this pulse is sidebanded\n",
    "        pi_half_pulse_12 = self.apply_sideband(pi_half_pulse_12,\n",
    "                                               self.qubit_freq_est_12,\n",
    "                                               name='sx_12')\n",
    "        self.list_schedule.append(pulse.Play(pi_half_pulse_12, self.drive_chan))\n",
    "\n",
    "    def ry_12(self, angle):\n",
    "        \"\"\"\n",
    "        Apply a ry gate on levels 12\n",
    "                input: it has to be in randians\n",
    "        \"\"\"\n",
    "        phase_pi = pulse.ShiftPhase(np.pi, self.drive_chan)\n",
    "        self.list_schedule.append(phase_pi)\n",
    "        ry_12 = pulse_lib.gaussian(duration=self.drive_samples,\n",
    "                                   amp=self.pi_amp_01*angle/np.pi,\n",
    "                                   sigma=self.drive_sigma,\n",
    "                                   name='ry_12')\n",
    "        # make sure this pulse is sidebanded\n",
    "        ry_12 = self.apply_sideband(ry_12,\n",
    "                                    self.qubit_freq_est_12,\n",
    "                                    name=\"ry_12\")\n",
    "        self.list_schedule.append(pulse.Play(ry_12, self.drive_chan))\n",
    "\n",
    "    def rz(self, phase):\n",
    "        self.list_schedule.append(pulse.ShiftPhase(phase, self.drive_chan))\n",
    "\n",
    "\n",
    "    def calibrate_freq_01(self, freqs=None):\n",
    "\n",
    "        f0 = self.qubit_freq_est_01\n",
    "        if freqs is None:\n",
    "            freqs = f0 + np.linspace(-20*self.MHz, 20*self.MHz, 75)\n",
    "\n",
    "        meas_idx = [self.qubit in group\n",
    "                        for group in self.backend_config.meas_map].index(True)\n",
    "\n",
    "        measure_pulse = self.backend_defaults.instruction_schedule_map.get(\n",
    "            'measure',\n",
    "            qubits = self.backend_config.meas_map[meas_idx],\n",
    "            )\n",
    "\n",
    "        gaussian_pulse = pulse_lib.gaussian(duration=self.drive_samples,\n",
    "                                            sigma=self.drive_sigma,\n",
    "                                            amp=0.1)\n",
    "\n",
    "        # Define schedule\n",
    "        schedule = pulse.Schedule()\n",
    "        schedule |= pulse.Play(gaussian_pulse, self.drive_chan)\n",
    "        schedule |= measure_pulse << schedule.duration\n",
    "\n",
    "        job = self.backend.run(schedule,\n",
    "                               meas_level=1,\n",
    "                               meas_return='avg',\n",
    "                               shots=1024,\n",
    "                               schedule_los=[{self.drive_chan: freq} for freq in freqs])\n",
    "\n",
    "        # Make notice about the on-going job\n",
    "        print(\"Calibrating qubit_freq_est_01...\")\n",
    "        job_monitor(job)\n",
    "\n",
    "        results = job.result(timeout=120)\n",
    "        results_data = [results.get_memory(i)[self.qubit] for i in range(len(results.results))]\n",
    "\n",
    "        # Fit Lorentzian response\n",
    "        fun = lambda x, qf, a, b, c: a * b / ((x-qf)**2 + b**2 ) + c\n",
    "        ydata = np.real(results_data)\n",
    "        ydata /= ydata.max()-ydata.min() # Normalize data height\n",
    "        b = (freqs.max()-freqs.min())/10 # Half-width\n",
    "        fit_params, *_ = curve_fit(fun, freqs, ydata, [f0, b, b, ydata.mean()])\n",
    "\n",
    "        # Update frequency estimate\n",
    "        self.qubit_freq_est_01 = fit_params[0]\n",
    "\n",
    "        print(f'qubit_freq_est_01 updated from {f0/self.GHz}GHz to {fit_params[0]/self.GHz}GHz.')\n",
    "\n",
    "    def calibrate_pi_amp_01(self, amps=None):\n",
    "\n",
    "        amp0 = self.pi_amp_01\n",
    "        if amps is None:\n",
    "            amps = np.linspace(0, 0.75, 75)\n",
    "\n",
    "        meas_idx = [self.qubit in group\n",
    "                        for group in self.backend_config.meas_map].index(True)\n",
    "\n",
    "        measure_pulse = self.backend_defaults.instruction_schedule_map.get(\n",
    "            'measure',\n",
    "            qubits = self.backend_config.meas_map[meas_idx],\n",
    "            )\n",
    "\n",
    "        schedules = []\n",
    "        for amp in amps:\n",
    "            gaussian_pulse = pulse_lib.gaussian(duration=self.drive_samples,\n",
    "                                                sigma=self.drive_sigma,\n",
    "                                                amp=amp)\n",
    "\n",
    "            # Define schedule\n",
    "            schedule = pulse.Schedule()\n",
    "            schedule |= pulse.Play(gaussian_pulse, self.drive_chan)\n",
    "            schedule |= measure_pulse << schedule.duration\n",
    "\n",
    "            # Accumulate\n",
    "            schedules.append(schedule)\n",
    "\n",
    "        job = self.backend.run(schedules,\n",
    "                               meas_level=1,\n",
    "                               meas_return='avg',\n",
    "                               shots=1024,\n",
    "                               schedule_los=[{self.drive_chan: self.qubit_freq_est_01}] * len(amps))\n",
    "\n",
    "        # Make notice about the on-going job\n",
    "        print(\"Calibrating pi_amp_01...\")\n",
    "        job_monitor(job)\n",
    "\n",
    "        results = job.result(timeout=120)\n",
    "        results_data = [results.get_memory(i)[self.qubit] for i in range(len(results.results))]\n",
    "\n",
    "        # Fit response\n",
    "        fun = lambda x, period, a, b, c: a * np.cos( 2*np.pi*x/period - b ) + c\n",
    "        ydata = np.real(results_data)\n",
    "        # Ansatz\n",
    "        period = amps[-1]/2\n",
    "        a = ydata.max()-ydata.min()\n",
    "        b = 0.0\n",
    "        c = ydata.mean()\n",
    "        fit_params, *_ = curve_fit(fun, amps, ydata, [period, a, b, c])\n",
    "\n",
    "        # Update amplitude estimate\n",
    "        self.pi_amp_01 = abs(fit_params[0] / 2)\n",
    "\n",
    "        print(f'pi_amp_01 updated from {amp0} to {self.pi_amp_01}.')\n",
    "\n",
    "    def calibrate_freq_12(self, freqs=None):\n",
    "\n",
    "        f0 = self.qubit_freq_est_12\n",
    "        if freqs is None:\n",
    "            freqs = f0 + np.linspace(-20*self.MHz, 20*self.MHz, 75)\n",
    "\n",
    "        meas_idx = [self.qubit in group\n",
    "                        for group in self.backend_config.meas_map].index(True)\n",
    "\n",
    "        measure_pulse = self.backend_defaults.instruction_schedule_map.get(\n",
    "            'measure',\n",
    "            qubits = self.backend_config.meas_map[meas_idx],\n",
    "            )\n",
    "\n",
    "        gaussian_pulse = pulse_lib.gaussian(duration=self.drive_samples,\n",
    "                                            sigma=self.drive_sigma,\n",
    "                                            amp=0.3)\n",
    "\n",
    "        pi_pulse_01 = pulse_lib.gaussian(duration=self.drive_samples,\n",
    "                                         amp=self.pi_amp_01,\n",
    "                                         sigma=self.drive_sigma,\n",
    "                                         name='pi_pulse_01')\n",
    "\n",
    "        schedules = []          # Accumulator\n",
    "        for freq in freqs:\n",
    "            sidebanded_pulse = self.apply_sideband(gaussian_pulse, freq)\n",
    "\n",
    "            schedule = pulse.Schedule()\n",
    "            schedule |= pulse.Play(pi_pulse_01, self.drive_chan)\n",
    "            schedule |= pulse.Play(sidebanded_pulse, self.drive_chan) << schedule.duration\n",
    "            schedule |= measure_pulse << schedule.duration\n",
    "\n",
    "            schedules.append(schedule)\n",
    "\n",
    "        job = self.backend.run(schedules,\n",
    "                               meas_level=1,\n",
    "                               meas_return='avg',\n",
    "                               shots=1024,\n",
    "                               schedule_los=[{self.drive_chan: self.qubit_freq_est_01}] * len(freqs))\n",
    "\n",
    "        # Make notice about the on-going job\n",
    "        print(\"Calibrating qubit_freq_est_12...\")\n",
    "        job_monitor(job)\n",
    "\n",
    "        results = job.result(timeout=120)\n",
    "        results_data = [results.get_memory(i)[self.qubit] for i in range(len(results.results))]\n",
    "\n",
    "        # Fit Lorentzian response\n",
    "        fun = lambda x, qf, a, b, c: a * b / ((x-qf)**2 + b**2 ) + c\n",
    "        ydata = np.real(results_data)\n",
    "        ydata /= ydata.max()-ydata.min() # Normalize data height\n",
    "        b = (freqs.max()-freqs.min())/10 # Half-width\n",
    "        fit_params, *_ = curve_fit(fun, freqs, ydata, [f0, b, b, ydata.mean()])\n",
    "\n",
    "        # Update frequency estimate\n",
    "        self.qubit_freq_est_12 = fit_params[0]\n",
    "\n",
    "        print(f'qubit_freq_est_12 updated from {f0/self.GHz}GHz to {fit_params[0]/self.GHz}GHz.')\n",
    "\n",
    "    def calibrate_pi_amp_12(self, amps=None):\n",
    "\n",
    "        amp0 = self.pi_amp_12\n",
    "        if amps is None:\n",
    "            amps = np.linspace(0, 0.75, 75)\n",
    "\n",
    "        meas_idx = [self.qubit in group\n",
    "                        for group in self.backend_config.meas_map].index(True)\n",
    "\n",
    "        measure_pulse = self.backend_defaults.instruction_schedule_map.get(\n",
    "            'measure',\n",
    "            qubits = self.backend_config.meas_map[meas_idx],\n",
    "            )\n",
    "\n",
    "        pi_pulse_01 = pulse_lib.gaussian(duration=self.drive_samples,\n",
    "                                         amp=self.pi_amp_01,\n",
    "                                         sigma=self.drive_sigma,\n",
    "                                         name='pi_pulse_01')\n",
    "\n",
    "        schedules = []\n",
    "        for amp in amps:\n",
    "            base_pulse = pulse_lib.gaussian(duration=self.drive_samples,\n",
    "                                            sigma=self.drive_sigma,\n",
    "                                            amp=amp)\n",
    "\n",
    "            sidebanded_pulse = self.apply_sideband(base_pulse, self.qubit_freq_est_12)\n",
    "\n",
    "            # Define schedule\n",
    "            schedule = pulse.Schedule()\n",
    "            schedule |= pulse.Play(pi_pulse_01, self.drive_chan)\n",
    "            schedule |= pulse.Play(sidebanded_pulse, self.drive_chan) << schedule.duration\n",
    "            schedule |= measure_pulse << schedule.duration\n",
    "\n",
    "            # Accumulate\n",
    "            schedules.append(schedule)\n",
    "\n",
    "        job = self.backend.run(schedules,\n",
    "                               meas_level=1,\n",
    "                               meas_return='avg',\n",
    "                               shots=1024,\n",
    "                               schedule_los=[{self.drive_chan: self.qubit_freq_est_01}] * len(amps))\n",
    "\n",
    "        # Make notice about the on-going job\n",
    "        print(\"Calibrating pi_amp_12...\")\n",
    "        job_monitor(job)\n",
    "\n",
    "        results = job.result(timeout=120)\n",
    "        results_data = [results.get_memory(i)[self.qubit] for i in range(len(results.results))]\n",
    "\n",
    "        # Fit response\n",
    "        fun = lambda x, period, a, b, c: a * np.cos( 2*np.pi*x/period - b ) + c\n",
    "        ydata = np.real(results_data)\n",
    "        # Ansatz\n",
    "        period = amps[-1]/2\n",
    "        a = ydata.max()-ydata.min()\n",
    "        b = 0.0\n",
    "        c = ydata.mean()\n",
    "        fit_params, *_ = curve_fit(fun, amps, ydata, [period, a, b, c])\n",
    "\n",
    "        # Update amplitude estimate\n",
    "        self.pi_amp_12 = abs(fit_params[0] / 2)\n",
    "\n",
    "        print(f'pi_amp_12 updated from {amp0} to {self.pi_amp_12}.')\n",
    "\n",
    "    def draw(self, backend=None, *args, **kwargs):\n",
    "        \"\"\"\n",
    "        Join all pulses and draw\n",
    "        \"\"\"\n",
    "\n",
    "        # Default backend\n",
    "        if backend is None:\n",
    "            backend = self.backend\n",
    "\n",
    "        # Join pulses\n",
    "        schedule = pulse.Schedule()\n",
    "        for s in self.list_schedule:\n",
    "            schedule |= s << schedule.duration\n",
    "\n",
    "        return schedule.draw(backend=backend,\n",
    "                             *args,\n",
    "                             **kwargs)\n",
    "\n",
    "    def run(self,\n",
    "            shots=1024,\n",
    "            meas_level=2,\n",
    "            meas_return='avg',\n",
    "            *args, **kwargs):\n",
    "        \"\"\"\n",
    "        Run circuit on backend\n",
    "        \"\"\"\n",
    "\n",
    "        schedule = pulse.Schedule()\n",
    "        for s in self.list_schedule:\n",
    "            schedule |= s << schedule.duration\n",
    "\n",
    "        job = self.backend.run(schedule,\n",
    "                               shots=shots,\n",
    "                               meas_level=meas_level,\n",
    "                               meas_return=meas_return,\n",
    "                               *args,\n",
    "                               **kwargs)\n",
    "\n",
    "        # Make notice about the on-going job\n",
    "        job_monitor(job)\n",
    "        results = job.result(timeout=120)\n",
    "        return results\n",
    "\n",
    "    def measure(self):\n",
    "        meas_idx = [self.qubit in group\n",
    "                        for group in self.backend_config.meas_map].index(True)\n",
    "        measure_pulse = self.backend_defaults.instruction_schedule_map.get(\n",
    "            'measure',\n",
    "            qubits = self.backend_config.meas_map[meas_idx],\n",
    "            )\n",
    "        self.list_schedule.append(measure_pulse)\n",
    "    \n",
    "    def discriminator012(self, shots=1024):\n",
    "        \n",
    "        pi_pulse_01 = pulse_lib.gaussian(duration=self.drive_samples,\n",
    "                                         amp=self.pi_amp_01,\n",
    "                                         sigma=self.drive_sigma,\n",
    "                                         name='x_01')\n",
    "    \n",
    "        pi_pulse_12 = pulse_lib.gaussian(duration=self.drive_samples,\n",
    "                                         amp=self.pi_amp_12,\n",
    "                                         sigma=self.drive_sigma,\n",
    "                                         name='x_12')\n",
    "        # make sure this pulse is sidebanded\n",
    "        pi_pulse_12 = self.apply_sideband(pi_pulse_12, self.qubit_freq_est_12,\n",
    "                                          name=\"x_12\")\n",
    "        \n",
    "        meas_idx = [self.qubit in group\n",
    "                        for group in self.backend_config.meas_map].index(True)\n",
    "\n",
    "        measure_pulse = self.backend_defaults.instruction_schedule_map.get(\n",
    "            'measure',\n",
    "            qubits = self.backend_config.meas_map[meas_idx],\n",
    "            )\n",
    "\n",
    "        # Create the three schedules\n",
    "\n",
    "        # Ground state schedule\n",
    "        zero_schedule = pulse.Schedule(name=\"zero schedule\")\n",
    "        zero_schedule |= measure_pulse\n",
    "\n",
    "        # Excited state schedule\n",
    "        one_schedule = pulse.Schedule(name=\"one schedule\")\n",
    "        one_schedule |= pulse.Play(pi_pulse_01, self.drive_chan)\n",
    "        one_schedule |= measure_pulse << one_schedule.duration\n",
    "\n",
    "        # Excited state schedule\n",
    "        two_schedule = pulse.Schedule(name=\"two schedule\")\n",
    "        two_schedule |= pulse.Play(pi_pulse_01, self.drive_chan)\n",
    "        two_schedule |= pulse.Play(pi_pulse_12, self.drive_chan) << two_schedule.duration\n",
    "        two_schedule |= measure_pulse << two_schedule.duration\n",
    "        \n",
    "        IQ_012_job = self.backend.run([zero_schedule, one_schedule, two_schedule],\n",
    "                           meas_level=1,\n",
    "                           meas_return='single',\n",
    "                           shots=shots,\n",
    "                           schedule_los=[{self.drive_chan: self.qubit_freq_est_01}] * 3)\n",
    "\n",
    "        job_monitor(IQ_012_job)\n",
    "        \n",
    "        # Get job data (single); split for zero, one and two\n",
    "\n",
    "        job_results = IQ_012_job.result(timeout=120)\n",
    "        \n",
    "        IQ_012_data = []\n",
    "        for i in range(len(job_results.results)):\n",
    "            IQ_012_data.append(job_results.get_memory(i)[:, self.qubit])  \n",
    "        \n",
    "        zero_data = IQ_012_data[0]\n",
    "        one_data = IQ_012_data[1]\n",
    "        two_data = IQ_012_data[2]\n",
    "        \n",
    "        # Create IQ vector (split real, imag parts)\n",
    "        zero_data_reshaped = reshape_complex_vec(zero_data)\n",
    "        one_data_reshaped = reshape_complex_vec(one_data)  \n",
    "        two_data_reshaped = reshape_complex_vec(two_data)  \n",
    "\n",
    "        IQ_012_data_reshaped = np.concatenate((zero_data_reshaped, one_data_reshaped, two_data_reshaped))\n",
    "        \n",
    "        return IQ_012_data_reshaped"
   ]
  },
  {
   "cell_type": "code",
   "execution_count": 110,
   "id": "b6720061",
   "metadata": {
    "ExecuteTime": {
     "end_time": "2021-10-25T13:47:16.929593Z",
     "start_time": "2021-10-25T13:47:09.891161Z"
    }
   },
   "outputs": [
    {
     "name": "stderr",
     "output_type": "stream",
     "text": [
      "ibmqfactory.load_account:WARNING:2021-10-25 10:47:10,932: Credentials are already in use. The existing account in the session will be replaced.\n"
     ]
    },
    {
     "data": {
      "text/plain": [
       "<AccountProvider for IBMQ(hub='ibm-q', group='open', project='main')>"
      ]
     },
     "execution_count": 110,
     "metadata": {},
     "output_type": "execute_result"
    }
   ],
   "source": [
    "# Load IMB Quantum credentials\n",
    "\n",
    "from qiskit import IBMQ\n",
    "IBMQ.load_account()"
   ]
  },
  {
   "cell_type": "code",
   "execution_count": 111,
   "id": "102eba51",
   "metadata": {
    "ExecuteTime": {
     "end_time": "2021-10-25T13:47:18.644290Z",
     "start_time": "2021-10-25T13:47:16.933242Z"
    }
   },
   "outputs": [],
   "source": [
    "# Choose device\n",
    "provider = IBMQ.get_provider(hub='ibm-q', group='open', project='main')\n",
    "backend = provider.get_backend('ibmq_armonk')\n",
    "\n",
    "qc = QuantumCircuit3(backend)"
   ]
  },
  {
   "cell_type": "markdown",
   "id": "a73ff8be",
   "metadata": {
    "ExecuteTime": {
     "end_time": "2021-10-24T22:38:07.382908Z",
     "start_time": "2021-10-24T22:38:07.375049Z"
    }
   },
   "source": [
    "# Test calibrations"
   ]
  },
  {
   "cell_type": "code",
   "execution_count": 5,
   "id": "8f59793f",
   "metadata": {
    "ExecuteTime": {
     "end_time": "2021-10-25T03:44:18.357514Z",
     "start_time": "2021-10-25T03:42:29.822206Z"
    }
   },
   "outputs": [
    {
     "name": "stdout",
     "output_type": "stream",
     "text": [
      "Calibrating qubit_freq_est_01...\n",
      "Job Status: job has successfully run\n",
      "qubit_freq_est_01 updated from 4.97158666934091GHz to 4.971557015724244GHz.\n"
     ]
    }
   ],
   "source": [
    "qc.calibrate_freq_01()\n"
   ]
  },
  {
   "cell_type": "code",
   "execution_count": 6,
   "id": "a10bca96",
   "metadata": {
    "ExecuteTime": {
     "end_time": "2021-10-25T03:46:15.085720Z",
     "start_time": "2021-10-25T03:44:18.361361Z"
    }
   },
   "outputs": [
    {
     "name": "stdout",
     "output_type": "stream",
     "text": [
      "Calibrating pi_amp_01...\n",
      "Job Status: job has successfully run\n",
      "pi_amp_01 updated from 0.1556930479027419 to 0.1553699170651389.\n"
     ]
    }
   ],
   "source": [
    "qc.calibrate_pi_amp_01()\n"
   ]
  },
  {
   "cell_type": "code",
   "execution_count": 7,
   "id": "100737c0",
   "metadata": {
    "ExecuteTime": {
     "end_time": "2021-10-25T03:49:21.187774Z",
     "start_time": "2021-10-25T03:46:15.105393Z"
    }
   },
   "outputs": [
    {
     "name": "stdout",
     "output_type": "stream",
     "text": [
      "Calibrating qubit_freq_est_12...\n",
      "Job Status: job has successfully run\n",
      "qubit_freq_est_12 updated from 4.6243937378580835GHz to 4.623519607182901GHz.\n"
     ]
    }
   ],
   "source": [
    "qc.calibrate_freq_12()\n"
   ]
  },
  {
   "cell_type": "code",
   "execution_count": 8,
   "id": "01af631e",
   "metadata": {
    "ExecuteTime": {
     "end_time": "2021-10-25T03:52:29.404092Z",
     "start_time": "2021-10-25T03:49:21.193355Z"
    }
   },
   "outputs": [
    {
     "name": "stdout",
     "output_type": "stream",
     "text": [
      "Calibrating pi_amp_12...\n",
      "Job Status: job has successfully run\n",
      "pi_amp_12 updated from 0.2797548240848574 to 0.28022342221049074.\n"
     ]
    }
   ],
   "source": [
    "qc.calibrate_pi_amp_12()"
   ]
  },
  {
   "cell_type": "code",
   "execution_count": 9,
   "id": "4dbcc2f8",
   "metadata": {
    "ExecuteTime": {
     "end_time": "2021-10-25T03:55:16.659614Z",
     "start_time": "2021-10-25T03:52:29.421567Z"
    }
   },
   "outputs": [
    {
     "name": "stdout",
     "output_type": "stream",
     "text": [
      "Job Status: job has successfully run\n"
     ]
    }
   ],
   "source": [
    "IQ_012_data_reshaped = qc.discriminator012()"
   ]
  },
  {
   "cell_type": "code",
   "execution_count": 112,
   "id": "6eba4afc",
   "metadata": {
    "ExecuteTime": {
     "end_time": "2021-10-25T13:47:18.668499Z",
     "start_time": "2021-10-25T13:47:18.646915Z"
    }
   },
   "outputs": [],
   "source": [
    "def LDA_dis(IQ_012_data, points, shots=1024, acc=False):\n",
    "        \n",
    "        # construct vector w/ 0's, 1's and 2's (for testing)\n",
    "        state_012 = np.zeros(shots) # shots gives number of experiments\n",
    "        state_012 = np.concatenate((state_012, np.ones(shots)))\n",
    "        state_012 = np.concatenate((state_012, 2*np.ones(shots)))\n",
    "        \n",
    "        # Shuffle and split data into training and test sets\n",
    "        IQ_012_train, IQ_012_test, state_012_train, state_012_test = train_test_split(IQ_012_data, state_012, test_size=0.5)\n",
    "        \n",
    "        # Set up the LDA\n",
    "        LDA_012 = LinearDiscriminantAnalysis()\n",
    "        LDA_012.fit(IQ_012_train, state_012_train)\n",
    "        \n",
    "        if acc==True:\n",
    "            score_012 = LDA_012.score(IQ_012_test, state_012_test)\n",
    "            print(score_012)\n",
    "        \n",
    "        counts = LDA_012.predict(points)\n",
    "        \n",
    "        return counts"
   ]
  },
  {
   "cell_type": "code",
   "execution_count": 113,
   "id": "04e95972",
   "metadata": {
    "ExecuteTime": {
     "end_time": "2021-10-25T13:47:18.774565Z",
     "start_time": "2021-10-25T13:47:18.674618Z"
    }
   },
   "outputs": [
    {
     "name": "stdout",
     "output_type": "stream",
     "text": [
      "0.8294270833333334\n"
     ]
    }
   ],
   "source": [
    "xd = LDA_dis(IQ_012_data_reshaped, IQ_012_data_reshaped, acc=True)"
   ]
  },
  {
   "cell_type": "code",
   "execution_count": 114,
   "id": "806c1abb",
   "metadata": {
    "ExecuteTime": {
     "end_time": "2021-10-25T13:47:19.858070Z",
     "start_time": "2021-10-25T13:47:18.788776Z"
    }
   },
   "outputs": [],
   "source": [
    "xd0 = xd[0:1023]\n",
    "xd1 = xd[1024:2047]\n",
    "xd2 = xd[2048:-1]"
   ]
  },
  {
   "cell_type": "code",
   "execution_count": 115,
   "id": "2895da12",
   "metadata": {
    "ExecuteTime": {
     "end_time": "2021-10-25T13:47:19.966261Z",
     "start_time": "2021-10-25T13:47:19.861342Z"
    }
   },
   "outputs": [],
   "source": [
    "import matplotlib.pyplot as plt\n",
    "%matplotlib inline"
   ]
  },
  {
   "cell_type": "code",
   "execution_count": 116,
   "id": "60f2f639",
   "metadata": {
    "ExecuteTime": {
     "end_time": "2021-10-25T13:47:20.363843Z",
     "start_time": "2021-10-25T13:47:19.976585Z"
    }
   },
   "outputs": [
    {
     "data": {
      "text/plain": [
       "(array([988.,   0.,   0.,   0.,   0.,  34.,   0.,   0.,   0.,   1.]),\n",
       " array([0. , 0.2, 0.4, 0.6, 0.8, 1. , 1.2, 1.4, 1.6, 1.8, 2. ]),\n",
       " <BarContainer object of 10 artists>)"
      ]
     },
     "execution_count": 116,
     "metadata": {},
     "output_type": "execute_result"
    },
    {
     "data": {
      "image/png": "[encoded data removed]",
      "text/plain": [
       "<Figure size 432x288 with 1 Axes>"
      ]
     },
     "metadata": {
      "needs_background": "light"
     },
     "output_type": "display_data"
    }
   ],
   "source": [
    "plt.hist(xd0)"
   ]
  },
  {
   "cell_type": "code",
   "execution_count": 117,
   "id": "f1156804",
   "metadata": {
    "ExecuteTime": {
     "end_time": "2021-10-25T13:47:20.722489Z",
     "start_time": "2021-10-25T13:47:20.366381Z"
    }
   },
   "outputs": [
    {
     "data": {
      "text/plain": [
       "(array([ 55.,   0.,   0.,   0.,   0., 799.,   0.,   0.,   0., 169.]),\n",
       " array([0. , 0.2, 0.4, 0.6, 0.8, 1. , 1.2, 1.4, 1.6, 1.8, 2. ]),\n",
       " <BarContainer object of 10 artists>)"
      ]
     },
     "execution_count": 117,
     "metadata": {},
     "output_type": "execute_result"
    },
    {
     "data": {
      "image/png": "[encoded data removed]",
      "text/plain": [
       "<Figure size 432x288 with 1 Axes>"
      ]
     },
     "metadata": {
      "needs_background": "light"
     },
     "output_type": "display_data"
    }
   ],
   "source": [
    "plt.hist(xd1)"
   ]
  },
  {
   "cell_type": "code",
   "execution_count": 118,
   "id": "a2d5e460",
   "metadata": {
    "ExecuteTime": {
     "end_time": "2021-10-25T13:47:21.091320Z",
     "start_time": "2021-10-25T13:47:20.725133Z"
    }
   },
   "outputs": [
    {
     "data": {
      "text/plain": [
       "(array([ 36.,   0.,   0.,   0.,   0., 244.,   0.,   0.,   0., 743.]),\n",
       " array([0. , 0.2, 0.4, 0.6, 0.8, 1. , 1.2, 1.4, 1.6, 1.8, 2. ]),\n",
       " <BarContainer object of 10 artists>)"
      ]
     },
     "execution_count": 118,
     "metadata": {},
     "output_type": "execute_result"
    },
    {
     "data": {
      "image/png": "[encoded data removed]",
      "text/plain": [
       "<Figure size 432x288 with 1 Axes>"
      ]
     },
     "metadata": {
      "needs_background": "light"
     },
     "output_type": "display_data"
    }
   ],
   "source": [
    "plt.hist(xd2)"
   ]
  },
  {
   "cell_type": "code",
   "execution_count": 119,
   "id": "d622a133",
   "metadata": {
    "ExecuteTime": {
     "end_time": "2021-10-25T13:47:21.435254Z",
     "start_time": "2021-10-25T13:47:21.096079Z"
    }
   },
   "outputs": [
    {
     "data": {
      "text/plain": [
       "(array([1080.,    0.,    0.,    0.,    0., 1078.,    0.,    0.,    0.,\n",
       "         914.]),\n",
       " array([0. , 0.2, 0.4, 0.6, 0.8, 1. , 1.2, 1.4, 1.6, 1.8, 2. ]),\n",
       " <BarContainer object of 10 artists>)"
      ]
     },
     "execution_count": 119,
     "metadata": {},
     "output_type": "execute_result"
    },
    {
     "data": {
      "image/png": "[encoded data removed]",
      "text/plain": [
       "<Figure size 432x288 with 1 Axes>"
      ]
     },
     "metadata": {
      "needs_background": "light"
     },
     "output_type": "display_data"
    }
   ],
   "source": [
    "plt.hist(xd)"
   ]
  },
  {
   "cell_type": "code",
   "execution_count": 138,
   "id": "2b42796b",
   "metadata": {
    "ExecuteTime": {
     "end_time": "2021-10-25T13:50:43.596542Z",
     "start_time": "2021-10-25T13:50:05.380332Z"
    }
   },
   "outputs": [
    {
     "name": "stdout",
     "output_type": "stream",
     "text": [
      "Job Status: job has successfully run\n"
     ]
    }
   ],
   "source": [
    "qc = QuantumCircuit3(backend)\n",
    "\n",
    "qc.x_01()\n",
    "qc.ry_01(np.pi/2.0)\n",
    "\n",
    "qc.x_01()\n",
    "qc.x_12()\n",
    "qc.ry_12(np.pi/2.0)\n",
    "\n",
    "\n",
    "qc.measure()\n",
    "\n",
    "job_results = qc.run(meas_level=1, meas_return='single', shots=1024)"
   ]
  },
  {
   "cell_type": "code",
   "execution_count": 139,
   "id": "943b5ef6",
   "metadata": {
    "ExecuteTime": {
     "end_time": "2021-10-25T13:50:44.149103Z",
     "start_time": "2021-10-25T13:50:43.601344Z"
    }
   },
   "outputs": [
    {
     "data": {
      "image/png": "[encoded data removed]",
      "text/plain": [
       "<Figure size 936x334.8 with 1 Axes>"
      ]
     },
     "execution_count": 139,
     "metadata": {},
     "output_type": "execute_result"
    }
   ],
   "source": [
    "qc.draw()"
   ]
  },
  {
   "cell_type": "code",
   "execution_count": 140,
   "id": "2de2e5d8",
   "metadata": {
    "ExecuteTime": {
     "end_time": "2021-10-25T13:50:44.176045Z",
     "start_time": "2021-10-25T13:50:44.158963Z"
    }
   },
   "outputs": [],
   "source": [
    "lul = []\n",
    "for i in range(len(job_results.results)):\n",
    "    lul.append(job_results.get_memory(i)[:, 0])\n",
    "    \n",
    "lul_reshaped = reshape_complex_vec(lul[0])"
   ]
  },
  {
   "cell_type": "code",
   "execution_count": 141,
   "id": "a8d81f3f",
   "metadata": {
    "ExecuteTime": {
     "end_time": "2021-10-25T13:50:44.559789Z",
     "start_time": "2021-10-25T13:50:44.188131Z"
    }
   },
   "outputs": [
    {
     "name": "stdout",
     "output_type": "stream",
     "text": [
      "0.830078125\n"
     ]
    }
   ],
   "source": [
    "xdprueba = LDA_dis(IQ_012_data_reshaped, lul_reshaped, acc=True)"
   ]
  },
  {
   "cell_type": "code",
   "execution_count": 142,
   "id": "d471db9e",
   "metadata": {
    "ExecuteTime": {
     "end_time": "2021-10-25T13:50:44.901193Z",
     "start_time": "2021-10-25T13:50:44.567189Z"
    }
   },
   "outputs": [
    {
     "data": {
      "text/plain": [
       "(array([441.,   0.,   0.,   0.,   0., 321.,   0.,   0.,   0., 262.]),\n",
       " array([0. , 0.2, 0.4, 0.6, 0.8, 1. , 1.2, 1.4, 1.6, 1.8, 2. ]),\n",
       " <BarContainer object of 10 artists>)"
      ]
     },
     "execution_count": 142,
     "metadata": {},
     "output_type": "execute_result"
    },
    {
     "data": {
      "image/png": "[encoded data removed]",
      "text/plain": [
       "<Figure size 432x288 with 1 Axes>"
      ]
     },
     "metadata": {
      "needs_background": "light"
     },
     "output_type": "display_data"
    }
   ],
   "source": [
    "plt.hist(xdprueba)"
   ]
  },
  {
   "cell_type": "code",
   "execution_count": 125,
   "id": "63aa81d8",
   "metadata": {
    "ExecuteTime": {
     "end_time": "2021-10-25T13:48:11.536204Z",
     "start_time": "2021-10-25T13:48:11.378440Z"
    }
   },
   "outputs": [
    {
     "data": {
      "image/png": "[encoded data removed]",
      "text/plain": [
       "<Figure size 193.726x144.48 with 1 Axes>"
      ]
     },
     "execution_count": 125,
     "metadata": {},
     "output_type": "execute_result"
    }
   ],
   "source": [
    "from qiskit import QuantumCircuit\n",
    "\n",
    "circ = QuantumCircuit(1, 1)\n",
    "circ.h(0)\n",
    "circ.measure([0],[0])\n",
    "\n",
    "circ.draw('mpl')"
   ]
  },
  {
   "cell_type": "code",
   "execution_count": 126,
   "id": "ea6f344c",
   "metadata": {
    "ExecuteTime": {
     "end_time": "2021-10-25T13:48:11.979643Z",
     "start_time": "2021-10-25T13:48:11.544476Z"
    }
   },
   "outputs": [
    {
     "name": "stderr",
     "output_type": "stream",
     "text": [
      "/home/dmunoz/anaconda3/lib/python3.8/site-packages/qiskit/pulse/schedule.py:1657: DeprecationWarning: Legacy pulse drawer is deprecated. Specified arguments plot_range are deprecated. Please check the API document of new pulse drawer `qiskit.visualization.pulse_drawer_v2`.\n",
      "  warnings.warn(\n"
     ]
    },
    {
     "data": {
      "image/png": "[encoded data removed]",
      "text/plain": [
       "<Figure size 936x237.6 with 1 Axes>"
      ]
     },
     "execution_count": 126,
     "metadata": {},
     "output_type": "execute_result"
    }
   ],
   "source": [
    "from qiskit import transpile, schedule as build_schedule\n",
    "\n",
    "transpiled_circ = transpile(circ, backend)  # Undefined Hadamard is replaced by U1\n",
    "schedule = build_schedule(transpiled_circ, backend)\n",
    "\n",
    "schedule.draw(plot_range=[0, 2000])"
   ]
  },
  {
   "cell_type": "code",
   "execution_count": 127,
   "id": "29959bb6",
   "metadata": {
    "ExecuteTime": {
     "end_time": "2021-10-25T13:48:13.386754Z",
     "start_time": "2021-10-25T13:48:11.982119Z"
    }
   },
   "outputs": [],
   "source": [
    "lel = backend.run(schedule)"
   ]
  },
  {
   "cell_type": "code",
   "execution_count": 128,
   "id": "9fb3b5f5",
   "metadata": {
    "ExecuteTime": {
     "end_time": "2021-10-25T13:49:01.332436Z",
     "start_time": "2021-10-25T13:48:13.390094Z"
    }
   },
   "outputs": [],
   "source": [
    "res = lel.result()"
   ]
  },
  {
   "cell_type": "code",
   "execution_count": 129,
   "id": "4a972fe5",
   "metadata": {
    "ExecuteTime": {
     "end_time": "2021-10-25T13:49:01.343876Z",
     "start_time": "2021-10-25T13:49:01.336344Z"
    }
   },
   "outputs": [
    {
     "data": {
      "text/plain": [
       "{'0': 524, '1': 500}"
      ]
     },
     "execution_count": 129,
     "metadata": {},
     "output_type": "execute_result"
    }
   ],
   "source": [
    "res.get_counts()"
   ]
  }
 ],
 "metadata": {
  "kernelspec": {
   "display_name": "Python 3 (ipykernel)",
   "language": "python",
   "name": "python3"
  },
  "language_info": {
   "codemirror_mode": {
    "name": "ipython",
    "version": 3
   },
   "file_extension": ".py",
   "mimetype": "text/x-python",
   "name": "python",
   "nbconvert_exporter": "python",
   "pygments_lexer": "ipython3",
   "version": "3.8.12"
  }
 },
 "nbformat": 4,
 "nbformat_minor": 5
}
